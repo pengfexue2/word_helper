{
 "cells": [
  {
   "cell_type": "code",
   "execution_count": 1,
   "metadata": {},
   "outputs": [
    {
     "name": "stdout",
     "output_type": "stream",
     "text": [
      "{'the': 2784, 'to': 1709, 'a': 1342, 'of': 1223, 'and': 991, 'in': 920, 'is': 558, 'for': 536, 's': 467, 'that': 464, 'it': 435, 'i': 368, 'what': 356, 'they': 349, 'are': 348, 'with': 337, 'on': 336, 'was': 287, 'at': 267, 'he': 263, 'you': 255, 'be': 253, 'as': 240, 'have': 233, 'about': 227, 'we': 221, 'can': 212, 'more': 201, 'but': 196, 'their': 193, 'from': 190, 'she': 186, 'by': 183, 'her': 174, 'people': 173, 'not': 170, 'an': 168, 'his': 168, 'do': 166, 'when': 158, 'will': 158, 'or': 152, 'how': 150, 'has': 149, 't': 149, 'this': 148, 'all': 134, 'my': 134, 'had': 130, 'who': 130, 'out': 128, 'there': 126, 'does': 122, 'up': 122, 'one': 121, 'them': 117, 'were': 114, 'your': 114, 'new': 113, 'if': 107, 'would': 107, 'some': 105, 'which': 105, 'time': 104, 'than': 102, 'food': 98, 'so': 95, 'our': 91, 'many': 90, 'most': 88, 'make': 86, 'man': 83, 'just': 79, 'could': 78, 'help': 78, 'take': 78, 'go': 77, 'good': 77, 'm': 77, 'much': 76, 'school': 75, 'no': 74, 'why': 74, 'work': 74, 'did': 73, 'two': 73, 'get': 72, 'us': 72, 'years': 71, 'its': 70, 'like': 70, 'small': 70, 'these': 70, 'first': 69, 'been': 68, 'into': 67, 'also': 66, 'year': 65, 'only': 63, 'should': 62, 'students': 61, 'where': 61, 'life': 60, 'other': 60, 'way': 60, 'may': 59, 'after': 57, 'well': 57, 'said': 56, 'day': 55, 'world': 55, 'over': 54, 'children': 52, 'woman': 52, 'says': 51, 'study': 50, 'before': 48, 'paragraph': 48, 'use': 48, 'while': 48, 'because': 47, 'find': 47, 'see': 47, 'now': 46, 'power': 46, 'want': 46, 'found': 45, 'made': 45, 'team': 45, 'best': 44, 'need': 44, 'different': 43, 'very': 43, 'd': 42, 'know': 42, 're': 42, 'those': 42, 'big': 41, 'following': 41, 'high': 41, 'home': 41, 'me': 41, 'even': 40, 'him': 40, 'learn': 40, 'nuclear': 40, 'between': 39, 'brain': 39, 'business': 39, 'family': 39, 'going': 39, 'off': 39, 'reading': 39, 'around': 38, 'author': 38, 'better': 38, 'few': 38, 'then': 38, 'too': 38, 'words': 38, 'feel': 37, 'however': 37, 'keep': 37, 'long': 37, 'say': 37, 'such': 37, 'arts': 36, 'probably': 36, 'talk': 36, 'according': 35, 'change': 35, 'each': 35, 'energy': 35, 'money': 35, 'don': 34, 'might': 34, 'music': 34, 'social': 34, 'technology': 34, 'city': 33, 'come': 33, 'fire': 33, 'kids': 33, 'old': 33, 'passage': 33, 'still': 33, 'back': 32, 'got': 32, 'own': 32, 'parents': 32, 'start': 32, 'chinese': 31, 'mother': 31, 'place': 31, 'tour': 31, 'young': 31, 'car': 30, 'days': 30, 'down': 30, 'important': 30, 'large': 30, 'looking': 30, 'others': 30, 'show': 30, 'top': 30, 'become': 29, 'less': 29, 'next': 29, 'number': 29, 'point': 29, 'read': 29, 'today': 29, 'bees': 28, 'college': 28, 'cost': 28, 'doing': 28, 'job': 28, 'live': 28, 'problem': 28, 'same': 28, 'skills': 28, 'being': 27, 'center': 27, 'development': 27, 'last': 27, 'left': 27, 'little': 27, 'meet': 27, 'something': 27, 'things': 27, 'through': 27, 'used': 27, 'another': 26, 'any': 26, 'art': 26, 'every': 26, 'history': 26, 'hours': 26, 'never': 26, 'percent': 26, 'speakers': 26, 'steve': 26, 'teacher': 26, 'trees': 26, 'early': 25, 'p': 25, 'think': 25, 'leave': 24, 'lot': 24, 'making': 24, 'must': 24, 'often': 24, 'product': 24, 'research': 24, 'talking': 24, 'together': 24, 'water': 24, 'couldn': 23, 'didn': 23, 'during': 23, 'end': 23, 'free': 23, 'giving': 23, 'human': 23, 'learning': 23, 'local': 23, 'media': 23, 'museum': 23, 'online': 23, 'program': 23, 'really': 23, 'report': 23, 'since': 23, 'species': 23, 'taking': 23, 'text': 23, 'using': 23, 'visit': 23, 'able': 22, 'based': 22, 'called': 22, 'changes': 22, 'china': 22, 'class': 22, 'conversation': 22, 'difficult': 22, 'economic': 22, 'enjoy': 22, 'evaluation': 22, 'farmers': 22, 'five': 22, 'heart': 22, 'information': 22, 'minutes': 22, 'mr': 22, 'person': 22, 'plants': 22, 'put': 22, 'real': 22, 'researchers': 22, 'scientists': 22, 'stay': 22, 'sure': 22, 'try': 22, 'working': 22, 'almost': 21, 'cities': 21, 'future': 21, 'give': 21, 'great': 21, 'hard': 21, 'love': 21, 'once': 21, 'play': 21, 'set': 21, 'support': 21, 'visitors': 21, 'wanted': 21, 'without': 21, 'age': 20, 'already': 20, 'brains': 20, 'eating': 20, 'example': 20, 'full': 20, 'house': 20, 'lead': 20, 'market': 20, 'means': 20, 'night': 20, 'part': 20, 'plastic': 20, 'problems': 20, 'questions': 20, 'result': 20, 'self': 20, 'space': 20, 'three': 20, 'ways': 20, 'anger': 19, 'believe': 19, 'birds': 19, 'child': 19, 'given': 19, 'goal': 19, 'industry': 19, 'makes': 19, 'mind': 19, 'phone': 19, 'public': 19, 'special': 19, 'stop': 19, 'student': 19, 'success': 19, 'summer': 19, 'america': 18, 'books': 18, 'california': 18, 'cars': 18, 'companies': 18, 'dance': 18, 'data': 18, 'develop': 18, 'enough': 18, 'group': 18, 'll': 18, 'lost': 18, 'main': 18, 'mean': 18, 'million': 18, 'move': 18, 'naomi': 18, 'phytoplankton': 18, 'plan': 18, 'project': 18, 'provide': 18, 'room': 18, 'service': 18, 'soon': 18, 'started': 18, 'ability': 17, 'air': 17, 'area': 17, 'away': 17, 'bags': 17, 'color': 17, 'company': 17, 'countries': 17, 'course': 17, 'culture': 17, 'effort': 17, 'ever': 17, 'everyone': 17, 'exercise': 17, 'face': 17, 'far': 17, 'farm': 17, 'fly': 17, 'friends': 17, 'half': 17, 'jason': 17, 'longer': 17, 'look': 17, 'ocean': 17, 'playing': 17, 'question': 17, 'reduce': 17, 'restaurant': 17, 'running': 17, 'second': 17, 'story': 17, 'tim': 17, 'times': 17, 'title': 17, 'took': 17, 've': 17, 'went': 17, 'complex': 16, 'control': 16, 'country': 16, 'education': 16, 'english': 16, 'event': 16, 'hall': 16, 'having': 16, 'health': 16, 'here': 16, 'improve': 16, 'instead': 16, 'languages': 16, 'living': 16, 'matter': 16, 'models': 16, 'quickly': 16, 'right': 16, 'situation': 16, 'talent': 16, 'tell': 16, 'week': 16, 'wilson': 16, 'among': 15, 'bad': 15, 'create': 15, 'creativity': 15, 'design': 15, 'developed': 15, 'doesn': 15, 'driving': 15, 'eat': 15, 'economy': 15, 'fashion': 15, 'friend': 15, 'gallery': 15, 'ice': 15, 'idea': 15, 'kind': 15, 'later': 15, 'major': 15, 'national': 15, 'nature': 15, 'paper': 15, 'past': 15, 'performance': 15, 'printing': 15, 'purpose': 15, 'quality': 15, 'registration': 15, 'relationship': 15, 'restaurants': 15, 'road': 15, 'seems': 15, 'shop': 15, 'smoke': 15, 'street': 15, 'system': 15, 'test': 15, 'themselves': 15, 'tourists': 15, 'true': 15, 'under': 15, 'usually': 15, 'works': 15, 'activities': 14, 'always': 14, 'american': 14, 'animals': 14, 'asked': 14, 'attention': 14, 'attitude': 14, 'bike': 14, 'book': 14, 'build': 14, 'chance': 14, 'chris': 14, 'concert': 14, 'environment': 14, 'events': 14, 'experience': 14, 'gone': 14, 'green': 14}\n"
     ]
    }
   ],
   "source": [
    "import pandas as pd\n",
    "\n",
    "# 一、读取 xlsx 表格数据\n",
    "\n",
    "excel_path=\"词频更新表.xlsx\"\n",
    "data = pd.read_excel(excel_path,sheet_name='Sheet1')\n",
    "\n",
    "excel_dict={}\n",
    "for i,item in enumerate(data[\"Column3\"]):\n",
    "    if isinstance(item,str):\n",
    "        excel_dict[item]=data[\"Column2\"][i]\n",
    "\n",
    "print(excel_dict)"
   ]
  },
  {
   "cell_type": "code",
   "execution_count": 1,
   "metadata": {},
   "outputs": [
    {
     "name": "stdout",
     "output_type": "stream",
     "text": [
      "<docx.table.Table object at 0x10d797e50>\n",
      "<docx.table.Table object at 0x10d797d10>\n",
      "<docx.table.Table object at 0x10d7beb90>\n",
      "<docx.table.Table object at 0x10d7c1190>\n",
      "<docx.table.Table object at 0x10d7c1150>\n"
     ]
    }
   ],
   "source": [
    "from docx import Document\n",
    "# 读取 word 文档\n",
    "path=\"高考词频表.docx\"\n",
    "document = Document(path)\n",
    "\n",
    "# 读取文档中的所有表格\n",
    "tables = document.tables\n",
    "# 获取所有表格数\n",
    "table_num = len(tables)\n",
    "\n",
    "# 为所有单词建立对应的词频字典\n",
    "f_dict = {}\n",
    "\n",
    "\n",
    "for table_index in range(table_num):\n",
    "    table = tables[table_index]\n",
    "    print(table)\n"
   ]
  },
  {
   "cell_type": "code",
   "execution_count": 6,
   "metadata": {},
   "outputs": [
    {
     "name": "stdout",
     "output_type": "stream",
     "text": [
      "Help on Table in module docx.table object:\n",
      "\n",
      "class Table(docx.shared.Parented)\n",
      " |  Table(tbl, parent)\n",
      " |  \n",
      " |  Proxy class for a WordprocessingML ``<w:tbl>`` element.\n",
      " |  \n",
      " |  Method resolution order:\n",
      " |      Table\n",
      " |      docx.shared.Parented\n",
      " |      builtins.object\n",
      " |  \n",
      " |  Methods defined here:\n",
      " |  \n",
      " |  __init__(self, tbl, parent)\n",
      " |      Initialize self.  See help(type(self)) for accurate signature.\n",
      " |  \n",
      " |  add_column(self, width)\n",
      " |      Return a |_Column| object of *width*, newly added rightmost to the\n",
      " |      table.\n",
      " |  \n",
      " |  add_row(self)\n",
      " |      Return a |_Row| instance, newly added bottom-most to the table.\n",
      " |  \n",
      " |  cell(self, row_idx, col_idx)\n",
      " |      Return |_Cell| instance correponding to table cell at *row_idx*,\n",
      " |      *col_idx* intersection, where (0, 0) is the top, left-most cell.\n",
      " |  \n",
      " |  column_cells(self, column_idx)\n",
      " |      Sequence of cells in the column at *column_idx* in this table.\n",
      " |  \n",
      " |  row_cells(self, row_idx)\n",
      " |      Sequence of cells in the row at *row_idx* in this table.\n",
      " |  \n",
      " |  ----------------------------------------------------------------------\n",
      " |  Data descriptors defined here:\n",
      " |  \n",
      " |  alignment\n",
      " |      Read/write. A member of :ref:`WdRowAlignment` or None, specifying the\n",
      " |      positioning of this table between the page margins. |None| if no\n",
      " |      setting is specified, causing the effective value to be inherited\n",
      " |      from the style hierarchy.\n",
      " |  \n",
      " |  autofit\n",
      " |      |True| if column widths can be automatically adjusted to improve the\n",
      " |      fit of cell contents. |False| if table layout is fixed. Column widths\n",
      " |      are adjusted in either case if total column width exceeds page width.\n",
      " |      Read/write boolean.\n",
      " |  \n",
      " |  columns\n",
      " |      |_Columns| instance representing the sequence of columns in this\n",
      " |      table.\n",
      " |  \n",
      " |  rows\n",
      " |      |_Rows| instance containing the sequence of rows in this table.\n",
      " |  \n",
      " |  style\n",
      " |      Read/write. A |_TableStyle| object representing the style applied to\n",
      " |      this table. The default table style for the document (often `Normal\n",
      " |      Table`) is returned if the table has no directly-applied style.\n",
      " |      Assigning |None| to this property removes any directly-applied table\n",
      " |      style causing it to inherit the default table style of the document.\n",
      " |      Note that the style name of a table style differs slightly from that\n",
      " |      displayed in the user interface; a hyphen, if it appears, must be\n",
      " |      removed. For example, `Light Shading - Accent 1` becomes `Light\n",
      " |      Shading Accent 1`.\n",
      " |  \n",
      " |  table\n",
      " |      Provide child objects with reference to the |Table| object they\n",
      " |      belong to, without them having to know their direct parent is\n",
      " |      a |Table| object. This is the terminus of a series of `parent._table`\n",
      " |      calls from an arbitrary child through its ancestors.\n",
      " |  \n",
      " |  table_direction\n",
      " |      A member of :ref:`WdTableDirection` indicating the direction in which\n",
      " |      the table cells are ordered, e.g. `WD_TABLE_DIRECTION.LTR`. |None|\n",
      " |      indicates the value is inherited from the style hierarchy.\n",
      " |  \n",
      " |  ----------------------------------------------------------------------\n",
      " |  Data descriptors inherited from docx.shared.Parented:\n",
      " |  \n",
      " |  __dict__\n",
      " |      dictionary for instance variables (if defined)\n",
      " |  \n",
      " |  __weakref__\n",
      " |      list of weak references to the object (if defined)\n",
      " |  \n",
      " |  part\n",
      " |      The package part containing this object\n",
      "\n"
     ]
    }
   ],
   "source": [
    "help(temp)"
   ]
  },
  {
   "cell_type": "code",
   "execution_count": 9,
   "metadata": {},
   "outputs": [
    {
     "data": {
      "text/plain": [
       "'单词'"
      ]
     },
     "execution_count": 9,
     "metadata": {},
     "output_type": "execute_result"
    }
   ],
   "source": [
    "temp.cell(0,0).text"
   ]
  },
  {
   "cell_type": "code",
   "execution_count": 3,
   "metadata": {},
   "outputs": [
    {
     "data": {
      "text/plain": [
       "<docx.table._Rows at 0x10da10bd0>"
      ]
     },
     "execution_count": 3,
     "metadata": {},
     "output_type": "execute_result"
    }
   ],
   "source": [
    "table.rows"
   ]
  },
  {
   "cell_type": "code",
   "execution_count": 7,
   "metadata": {},
   "outputs": [
    {
     "name": "stdout",
     "output_type": "stream",
     "text": [
      "已完成 1/6\n",
      "已完成 2/6\n",
      "已完成 3/6\n",
      "已完成 4/6\n",
      "已完成 5/6\n",
      "更新词频完成！\n"
     ]
    }
   ],
   "source": [
    "#!/usr/bin/env python\n",
    "# encoding: utf-8\n",
    "# @Time : 2020-03-20 16:05\n",
    "\n",
    "__author__ = 'Ted'\n",
    "\n",
    "from docx import Document\n",
    "import docx\n",
    "import pandas as pd\n",
    "\n",
    "\n",
    "# 一、读取 xlsx 表格数据\n",
    "excel_path=\"词频更新表.xlsx\"\n",
    "data = pd.read_excel(excel_path,sheet_name='Sheet1')\n",
    "\n",
    "excel_dict={}\n",
    "for i,item in enumerate(data[\"Column3\"]):\n",
    "    if isinstance(item,str):\n",
    "        excel_dict[item]=data[\"Column2\"][i]\n",
    "\n",
    "#print(excel_dict)\n",
    "\n",
    "# 二、读取 word 文档\n",
    "path=\"高考词频表.docx\"\n",
    "document = Document(path)\n",
    "\n",
    "# 读取文档中的所有表格\n",
    "tables = document.tables\n",
    "# 获取所有表格数\n",
    "table_num = len(tables)\n",
    "\n",
    "# 为所有单词建立对应的词频字典\n",
    "f_dict = {}\n",
    "\n",
    "\n",
    "for table_index in range(table_num):\n",
    "    table = tables[table_index]\n",
    "    for i in range(1,len(table.rows)):\n",
    "        word_text = table.cell(i, 0).text\n",
    "        frequency = table.cell(i, 4).text\n",
    "        f_dict[word_text] = frequency\n",
    "\n",
    "        if frequency!=\"\":\n",
    "            #print(f\"word中{word_text}的频率为{frequency}\")\n",
    "            update_num = int(excel_dict.get(word_text,0))\n",
    "            #print(f\"excel中{word_text}的频率为{update_num}\")\n",
    "            count = int(frequency)+update_num\n",
    "            table.cell(i, 4).text = str(count)\n",
    "            #print(f\"更新完，词频为{count}\")\n",
    "    print(f\"已完成 {table_index+1}/{table_num+1}\")\n",
    "\n",
    "print(\"更新词频完成！\")\n",
    "document.save(\"result.docx\")"
   ]
  },
  {
   "cell_type": "code",
   "execution_count": null,
   "metadata": {},
   "outputs": [],
   "source": []
  }
 ],
 "metadata": {
  "kernelspec": {
   "display_name": "Python 3",
   "language": "python",
   "name": "python3"
  },
  "language_info": {
   "codemirror_mode": {
    "name": "ipython",
    "version": 3
   },
   "file_extension": ".py",
   "mimetype": "text/x-python",
   "name": "python",
   "nbconvert_exporter": "python",
   "pygments_lexer": "ipython3",
   "version": "3.7.4"
  }
 },
 "nbformat": 4,
 "nbformat_minor": 2
}
